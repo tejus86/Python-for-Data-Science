{
 "cells": [
  {
   "cell_type": "markdown",
   "id": "c72a089d",
   "metadata": {},
   "source": [
    "### Data Visualization\n",
    "\n",
    "• Data visualization allows us to quickly interpret the data and adjust different variables to see their effect\n",
    "\n",
    "• Technology is increasingly making it easier for us to do so Why\n",
    "\n",
    "visualize data?\n",
    "\n",
    "    o Observe the patterns\n",
    "    o Identify extreme values that could be anomalies\n",
    "    o Easy interpretation"
   ]
  },
  {
   "cell_type": "markdown",
   "id": "880e5ff3",
   "metadata": {},
   "source": [
    "### Popular plotting libraries in Python\n",
    "\n",
    "Python offers multiple graphing libraries that offers diverse features\n",
    "\n",
    "• matplotlib \n",
    "\n",
    "    to create 2D graphs and plots\n",
    "    \n",
    "• pandas visualization \n",
    "\n",
    "    easy to use interface, built on Matplotlib\n",
    "    \n",
    "• seaborn\n",
    "\n",
    "    provides a high level interface for drawing attractive and informative statistical graphics\n",
    "\n",
    "• ggplot\n",
    "\n",
    "    based on R’s ggplot2, uses Grammar of Graphics\n",
    "\n",
    "• plotly \n",
    "\n",
    "    can create interactive plots\n"
   ]
  },
  {
   "cell_type": "markdown",
   "id": "9a273c9e",
   "metadata": {},
   "source": [
    "### Matplotlib\n",
    "\n",
    "• Matplotlib is a 2 D plotting library which produces good quality figures\n",
    "\n",
    "• Although it has its origins in emulating the MATLAB graphics commands, it is independent\n",
    "of MATLAB\n",
    "\n",
    "• It makes heavy use of NumPy and other extension code to provide good performance\n",
    "even for large arrays"
   ]
  },
  {
   "cell_type": "markdown",
   "id": "5c110ff2",
   "metadata": {},
   "source": [
    "### Scatter Plot\n",
    "\n",
    "What is a scatter plot?\n",
    "\n",
    "• A scatter plot is a set of points that represents\n",
    "the values obtained for two different variables\n",
    "plotted on a horizontal and vertical axes\n",
    "\n",
    "\n",
    "When to use scatter plots?\n",
    "\n",
    "• Scatter plots are used to convey the relationship between two numerical variables\n",
    "\n",
    "• Scatter plots are sometimes called correlation plots because they show how two variables are correlated"
   ]
  },
  {
   "cell_type": "code",
   "execution_count": 1,
   "id": "8b7d612c",
   "metadata": {},
   "outputs": [],
   "source": [
    "import pandas as pd\n",
    "import numpy as np\n",
    "import matplotlib.pyplot as plt"
   ]
  },
  {
   "cell_type": "markdown",
   "id": "73a9dfd1",
   "metadata": {},
   "source": [
    "‘pandas’ library to work with dataframes\n",
    "\n",
    "‘numpy ’ library to do numerical operations\n",
    "\n",
    "‘matplotlib’ library to do visualization"
   ]
  },
  {
   "cell_type": "code",
   "execution_count": 2,
   "id": "aa05835b",
   "metadata": {},
   "outputs": [],
   "source": [
    "cars_data = pd.read_csv('Toyota.csv', index_col = 0, na_values = [\"??\", \"????\"])"
   ]
  },
  {
   "cell_type": "code",
   "execution_count": 4,
   "id": "7cbb2075",
   "metadata": {},
   "outputs": [
    {
     "data": {
      "text/plain": [
       "(1436, 10)"
      ]
     },
     "execution_count": 4,
     "metadata": {},
     "output_type": "execute_result"
    }
   ],
   "source": [
    "cars_data.shape"
   ]
  },
  {
   "cell_type": "markdown",
   "id": "97edc72d",
   "metadata": {},
   "source": [
    "####  Removing missing values from the dataframe "
   ]
  },
  {
   "cell_type": "code",
   "execution_count": 5,
   "id": "21841ae9",
   "metadata": {},
   "outputs": [],
   "source": [
    "cars_data.dropna(axis = 0, inplace = True)"
   ]
  },
  {
   "cell_type": "code",
   "execution_count": 6,
   "id": "fbe1d103",
   "metadata": {},
   "outputs": [
    {
     "data": {
      "text/plain": [
       "(1096, 10)"
      ]
     },
     "execution_count": 6,
     "metadata": {},
     "output_type": "execute_result"
    }
   ],
   "source": [
    "cars_data.shape"
   ]
  },
  {
   "cell_type": "markdown",
   "id": "74036e03",
   "metadata": {},
   "source": [
    "### Scatter plot"
   ]
  },
  {
   "cell_type": "code",
   "execution_count": 7,
   "id": "e02ffd76",
   "metadata": {},
   "outputs": [
    {
     "data": {
      "image/png": "[encoded data removed]",
      "text/plain": [
       "<Figure size 432x288 with 1 Axes>"
      ]
     },
     "metadata": {
      "needs_background": "light"
     },
     "output_type": "display_data"
    }
   ],
   "source": [
    "plt.scatter(cars_data[\"Age\"], cars_data[\"Price\"], c=\"red\")\n",
    "plt.title(\"Scatter plot of price vs age of the cars\")\n",
    "plt.xlabel(\"Age (months)\")\n",
    "plt.ylabel(\"Price (Euros)\")\n",
    "plt.show()"
   ]
  },
  {
   "cell_type": "raw",
   "id": "96bac813",
   "metadata": {},
   "source": [
    "The price of the car decreases as age of the car increases"
   ]
  },
  {
   "cell_type": "markdown",
   "id": "10df5a8d",
   "metadata": {},
   "source": [
    "### Histogram\n",
    "\n",
    "What is a histogram?\n",
    "\n",
    "• It is a graphical representation of data using bars of different heights\n",
    "\n",
    "• Histogram groups numbers into ranges and the height of each bar depicts the frequency\n",
    "of each range or bin\n",
    "\n",
    "\n",
    "When to use histograms?\n",
    "\n",
    "• To represent the frequency distribution of numerical variables"
   ]
  },
  {
   "cell_type": "code",
   "execution_count": 8,
   "id": "c3837053",
   "metadata": {
    "scrolled": true
   },
   "outputs": [
    {
     "data": {
      "text/plain": [
       "(array([ 92., 239., 331., 222., 111.,  51.,  25.,  13.,  10.,   2.]),\n",
       " array([1.000000e+00, 2.430090e+04, 4.860080e+04, 7.290070e+04,\n",
       "        9.720060e+04, 1.215005e+05, 1.458004e+05, 1.701003e+05,\n",
       "        1.944002e+05, 2.187001e+05, 2.430000e+05]),\n",
       " <BarContainer object of 10 artists>)"
      ]
     },
     "execution_count": 8,
     "metadata": {},
     "output_type": "execute_result"
    },
    {
     "data": {
      "image/png": "[encoded data removed]",
      "text/plain": [
       "<Figure size 432x288 with 1 Axes>"
      ]
     },
     "metadata": {
      "needs_background": "light"
     },
     "output_type": "display_data"
    }
   ],
   "source": [
    "plt.hist(cars_data[\"KM\"])"
   ]
  },
  {
   "cell_type": "markdown",
   "id": "5bc8f899",
   "metadata": {},
   "source": [
    "Histogram with default arguments"
   ]
  },
  {
   "cell_type": "code",
   "execution_count": 9,
   "id": "8bed8471",
   "metadata": {},
   "outputs": [
    {
     "data": {
      "image/png": "[encoded data removed]",
      "text/plain": [
       "<Figure size 432x288 with 1 Axes>"
      ]
     },
     "metadata": {
      "needs_background": "light"
     },
     "output_type": "display_data"
    }
   ],
   "source": [
    "plt.hist(cars_data[\"KM\"],\n",
    "        color = \"green\",\n",
    "        bins = 5)\n",
    "plt.title(\"Histogram of kilometer\")\n",
    "plt.xlabel(\"kilometer\")\n",
    "plt.ylabel(\"Frequency\")\n",
    "plt.show()"
   ]
  },
  {
   "cell_type": "markdown",
   "id": "fad5a895",
   "metadata": {},
   "source": [
    "Frequency distribution of kilometre of the cars shows that\n",
    "most of the cars have travelled between 50000 100000 km\n",
    "and there are only few cars with more distance travelled"
   ]
  },
  {
   "cell_type": "markdown",
   "id": "8309dbe5",
   "metadata": {},
   "source": [
    "### Bar plot\n",
    "\n",
    "What is a bar plot?\n",
    "\n",
    "• A bar plot is a plot that presents categorical data with rectangular bars with lengths\n",
    "proportional to the counts that they represent\n",
    "\n",
    "When to use bar plot?\n",
    "\n",
    "• To represent the frequency distribution of categorical variables\n",
    "\n",
    "• A bar diagram makes it easy to compare sets of data between different groups"
   ]
  },
  {
   "cell_type": "code",
   "execution_count": 10,
   "id": "427361ef",
   "metadata": {},
   "outputs": [],
   "source": [
    "counts = [979, 120, 12]\n",
    "fueltype = (\"Petrol\", \"Diesel\", \"CNG\")\n",
    "index = np.arange(len(fueltype))"
   ]
  },
  {
   "cell_type": "code",
   "execution_count": 11,
   "id": "a5e2e86d",
   "metadata": {},
   "outputs": [
    {
     "data": {
      "image/png": "[encoded data removed]",
      "text/plain": [
       "<Figure size 432x288 with 1 Axes>"
      ]
     },
     "metadata": {
      "needs_background": "light"
     },
     "output_type": "display_data"
    }
   ],
   "source": [
    "plt.bar(index, counts, color= [\"red\", \"blue\", \"cyan\"])\n",
    "plt.title(\"Bar plot of fuel types\")\n",
    "plt.xlabel(\"Fuel Types\")\n",
    "plt.ylabel(\"Frequency\")\n",
    "plt.show()"
   ]
  },
  {
   "cell_type": "markdown",
   "id": "f36d46c3",
   "metadata": {},
   "source": [
    "Frequency distribution of fuel type"
   ]
  },
  {
   "cell_type": "markdown",
   "id": "dea74d48",
   "metadata": {},
   "source": [
    "x  :  index\n",
    "\n",
    "height of the bars  :  counts"
   ]
  },
  {
   "cell_type": "code",
   "execution_count": 15,
   "id": "313efb5f",
   "metadata": {},
   "outputs": [
    {
     "data": {
      "image/png": "[encoded data removed]",
      "text/plain": [
       "<Figure size 432x288 with 1 Axes>"
      ]
     },
     "metadata": {
      "needs_background": "light"
     },
     "output_type": "display_data"
    }
   ],
   "source": [
    "plt.bar(index, counts, color= [\"red\", \"blue\", \"cyan\"])\n",
    "plt.title(\"Bar plot of fuel types\")\n",
    "plt.xlabel(\"Fuel Types\")\n",
    "plt.ylabel(\"Frequency\")\n",
    "plt.xticks(index, fueltype, rotation = 90)\n",
    "plt.show()"
   ]
  },
  {
   "cell_type": "markdown",
   "id": "f6a01d0c",
   "metadata": {},
   "source": [
    "Bar plot of fuel type shows that most of the cars have petrol as\n",
    "fuel type"
   ]
  },
  {
   "cell_type": "code",
   "execution_count": null,
   "id": "cf29b9e0",
   "metadata": {},
   "outputs": [],
   "source": []
  }
 ],
 "metadata": {
  "kernelspec": {
   "display_name": "Python 3 (ipykernel)",
   "language": "python",
   "name": "python3"
  },
  "language_info": {
   "codemirror_mode": {
    "name": "ipython",
    "version": 3
   },
   "file_extension": ".py",
   "mimetype": "text/x-python",
   "name": "python",
   "nbconvert_exporter": "python",
   "pygments_lexer": "ipython3",
   "version": "3.9.7"
  }
 },
 "nbformat": 4,
 "nbformat_minor": 5
}
