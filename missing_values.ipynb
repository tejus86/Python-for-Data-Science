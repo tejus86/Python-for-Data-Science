{
 "cells": [
  {
   "cell_type": "code",
   "execution_count": 36,
   "id": "c7d7d50c",
   "metadata": {},
   "outputs": [],
   "source": [
    "import pandas as pd\n",
    "cars_data = pd.read_csv('Toyota.csv')"
   ]
  },
  {
   "cell_type": "code",
   "execution_count": 37,
   "id": "e38af159",
   "metadata": {},
   "outputs": [],
   "source": [
    "cars_data = pd.read_csv('Toyota.csv', index_col=0, na_values = [\"??\", \"????\"] )"
   ]
  },
  {
   "cell_type": "code",
   "execution_count": 38,
   "id": "0886f848",
   "metadata": {},
   "outputs": [],
   "source": [
    "cars_data2 = cars_data.copy()"
   ]
  },
  {
   "cell_type": "markdown",
   "id": "f4ae3914",
   "metadata": {},
   "source": [
    "### Identifying missing values\n",
    "\n",
    "In Pandas dataframes missing data is represented by NaN (an acronym for Not a Number)\n",
    "\n",
    "To check null values in Pandas dataframes isnull() and isna() are used\n",
    "\n",
    "These functions returns a dataframe of Boolean values which are True for NaN values"
   ]
  },
  {
   "cell_type": "markdown",
   "id": "5a913aae",
   "metadata": {},
   "source": [
    "### Identifying missing values\n",
    "\n",
    "Dataframe.isna.sum(), Dataframe.isnull.sum()\n",
    "\n",
    "To check the count of missing values present in each column"
   ]
  },
  {
   "cell_type": "code",
   "execution_count": 39,
   "id": "2afb2acd",
   "metadata": {},
   "outputs": [
    {
     "data": {
      "text/plain": [
       "Price          0\n",
       "Age          100\n",
       "KM            15\n",
       "FuelType     100\n",
       "HP             6\n",
       "MetColor     150\n",
       "Automatic      0\n",
       "CC             0\n",
       "Doors          0\n",
       "Weight         0\n",
       "dtype: int64"
      ]
     },
     "execution_count": 39,
     "metadata": {},
     "output_type": "execute_result"
    }
   ],
   "source": [
    "cars_data2.isna().sum()"
   ]
  },
  {
   "cell_type": "code",
   "execution_count": 40,
   "id": "bd208ed8",
   "metadata": {},
   "outputs": [
    {
     "data": {
      "text/plain": [
       "Price          0\n",
       "Age          100\n",
       "KM            15\n",
       "FuelType     100\n",
       "HP             6\n",
       "MetColor     150\n",
       "Automatic      0\n",
       "CC             0\n",
       "Doors          0\n",
       "Weight         0\n",
       "dtype: int64"
      ]
     },
     "execution_count": 40,
     "metadata": {},
     "output_type": "execute_result"
    }
   ],
   "source": [
    "cars_data2.isnull().sum()"
   ]
  },
  {
   "cell_type": "markdown",
   "id": "925bf73e",
   "metadata": {},
   "source": [
    "#### Subsetting the rows that have one or more missing values"
   ]
  },
  {
   "cell_type": "code",
   "execution_count": 41,
   "id": "fe095c2c",
   "metadata": {},
   "outputs": [],
   "source": [
    "missing = cars_data2[cars_data2.isnull().any(axis = 1)]"
   ]
  },
  {
   "cell_type": "code",
   "execution_count": 42,
   "id": "832e29e8",
   "metadata": {},
   "outputs": [
    {
     "data": {
      "text/html": [
       "<div>\n",
       "<style scoped>\n",
       "    .dataframe tbody tr th:only-of-type {\n",
       "        vertical-align: middle;\n",
       "    }\n",
       "\n",
       "    .dataframe tbody tr th {\n",
       "        vertical-align: top;\n",
       "    }\n",
       "\n",
       "    .dataframe thead th {\n",
       "        text-align: right;\n",
       "    }\n",
       "</style>\n",
       "<table border=\"1\" class=\"dataframe\">\n",
       "  <thead>\n",
       "    <tr style=\"text-align: right;\">\n",
       "      <th></th>\n",
       "      <th>Price</th>\n",
       "      <th>Age</th>\n",
       "      <th>KM</th>\n",
       "      <th>FuelType</th>\n",
       "      <th>HP</th>\n",
       "      <th>MetColor</th>\n",
       "      <th>Automatic</th>\n",
       "      <th>CC</th>\n",
       "      <th>Doors</th>\n",
       "      <th>Weight</th>\n",
       "    </tr>\n",
       "  </thead>\n",
       "  <tbody>\n",
       "    <tr>\n",
       "      <th>2</th>\n",
       "      <td>13950</td>\n",
       "      <td>24.0</td>\n",
       "      <td>41711.0</td>\n",
       "      <td>Diesel</td>\n",
       "      <td>90.0</td>\n",
       "      <td>NaN</td>\n",
       "      <td>0</td>\n",
       "      <td>2000</td>\n",
       "      <td>3</td>\n",
       "      <td>1165</td>\n",
       "    </tr>\n",
       "    <tr>\n",
       "      <th>6</th>\n",
       "      <td>16900</td>\n",
       "      <td>27.0</td>\n",
       "      <td>NaN</td>\n",
       "      <td>Diesel</td>\n",
       "      <td>NaN</td>\n",
       "      <td>NaN</td>\n",
       "      <td>0</td>\n",
       "      <td>2000</td>\n",
       "      <td>3</td>\n",
       "      <td>1245</td>\n",
       "    </tr>\n",
       "    <tr>\n",
       "      <th>7</th>\n",
       "      <td>18600</td>\n",
       "      <td>30.0</td>\n",
       "      <td>75889.0</td>\n",
       "      <td>NaN</td>\n",
       "      <td>90.0</td>\n",
       "      <td>1.0</td>\n",
       "      <td>0</td>\n",
       "      <td>2000</td>\n",
       "      <td>3</td>\n",
       "      <td>1245</td>\n",
       "    </tr>\n",
       "    <tr>\n",
       "      <th>9</th>\n",
       "      <td>12950</td>\n",
       "      <td>23.0</td>\n",
       "      <td>71138.0</td>\n",
       "      <td>Diesel</td>\n",
       "      <td>NaN</td>\n",
       "      <td>NaN</td>\n",
       "      <td>0</td>\n",
       "      <td>1900</td>\n",
       "      <td>3</td>\n",
       "      <td>1105</td>\n",
       "    </tr>\n",
       "    <tr>\n",
       "      <th>15</th>\n",
       "      <td>22000</td>\n",
       "      <td>28.0</td>\n",
       "      <td>18739.0</td>\n",
       "      <td>Petrol</td>\n",
       "      <td>NaN</td>\n",
       "      <td>0.0</td>\n",
       "      <td>0</td>\n",
       "      <td>1800</td>\n",
       "      <td>3</td>\n",
       "      <td>1185</td>\n",
       "    </tr>\n",
       "    <tr>\n",
       "      <th>...</th>\n",
       "      <td>...</td>\n",
       "      <td>...</td>\n",
       "      <td>...</td>\n",
       "      <td>...</td>\n",
       "      <td>...</td>\n",
       "      <td>...</td>\n",
       "      <td>...</td>\n",
       "      <td>...</td>\n",
       "      <td>...</td>\n",
       "      <td>...</td>\n",
       "    </tr>\n",
       "    <tr>\n",
       "      <th>1428</th>\n",
       "      <td>8450</td>\n",
       "      <td>72.0</td>\n",
       "      <td>NaN</td>\n",
       "      <td>Petrol</td>\n",
       "      <td>86.0</td>\n",
       "      <td>NaN</td>\n",
       "      <td>0</td>\n",
       "      <td>1300</td>\n",
       "      <td>3</td>\n",
       "      <td>1015</td>\n",
       "    </tr>\n",
       "    <tr>\n",
       "      <th>1431</th>\n",
       "      <td>7500</td>\n",
       "      <td>NaN</td>\n",
       "      <td>20544.0</td>\n",
       "      <td>Petrol</td>\n",
       "      <td>86.0</td>\n",
       "      <td>1.0</td>\n",
       "      <td>0</td>\n",
       "      <td>1300</td>\n",
       "      <td>3</td>\n",
       "      <td>1025</td>\n",
       "    </tr>\n",
       "    <tr>\n",
       "      <th>1432</th>\n",
       "      <td>10845</td>\n",
       "      <td>72.0</td>\n",
       "      <td>NaN</td>\n",
       "      <td>Petrol</td>\n",
       "      <td>86.0</td>\n",
       "      <td>0.0</td>\n",
       "      <td>0</td>\n",
       "      <td>1300</td>\n",
       "      <td>3</td>\n",
       "      <td>1015</td>\n",
       "    </tr>\n",
       "    <tr>\n",
       "      <th>1433</th>\n",
       "      <td>8500</td>\n",
       "      <td>NaN</td>\n",
       "      <td>17016.0</td>\n",
       "      <td>Petrol</td>\n",
       "      <td>86.0</td>\n",
       "      <td>0.0</td>\n",
       "      <td>0</td>\n",
       "      <td>1300</td>\n",
       "      <td>3</td>\n",
       "      <td>1015</td>\n",
       "    </tr>\n",
       "    <tr>\n",
       "      <th>1434</th>\n",
       "      <td>7250</td>\n",
       "      <td>70.0</td>\n",
       "      <td>NaN</td>\n",
       "      <td>NaN</td>\n",
       "      <td>86.0</td>\n",
       "      <td>1.0</td>\n",
       "      <td>0</td>\n",
       "      <td>1300</td>\n",
       "      <td>3</td>\n",
       "      <td>1015</td>\n",
       "    </tr>\n",
       "  </tbody>\n",
       "</table>\n",
       "<p>340 rows × 10 columns</p>\n",
       "</div>"
      ],
      "text/plain": [
       "      Price   Age       KM FuelType    HP  MetColor  Automatic    CC Doors  \\\n",
       "2     13950  24.0  41711.0   Diesel  90.0       NaN          0  2000     3   \n",
       "6     16900  27.0      NaN   Diesel   NaN       NaN          0  2000     3   \n",
       "7     18600  30.0  75889.0      NaN  90.0       1.0          0  2000     3   \n",
       "9     12950  23.0  71138.0   Diesel   NaN       NaN          0  1900     3   \n",
       "15    22000  28.0  18739.0   Petrol   NaN       0.0          0  1800     3   \n",
       "...     ...   ...      ...      ...   ...       ...        ...   ...   ...   \n",
       "1428   8450  72.0      NaN   Petrol  86.0       NaN          0  1300     3   \n",
       "1431   7500   NaN  20544.0   Petrol  86.0       1.0          0  1300     3   \n",
       "1432  10845  72.0      NaN   Petrol  86.0       0.0          0  1300     3   \n",
       "1433   8500   NaN  17016.0   Petrol  86.0       0.0          0  1300     3   \n",
       "1434   7250  70.0      NaN      NaN  86.0       1.0          0  1300     3   \n",
       "\n",
       "      Weight  \n",
       "2       1165  \n",
       "6       1245  \n",
       "7       1245  \n",
       "9       1105  \n",
       "15      1185  \n",
       "...      ...  \n",
       "1428    1015  \n",
       "1431    1025  \n",
       "1432    1015  \n",
       "1433    1015  \n",
       "1434    1015  \n",
       "\n",
       "[340 rows x 10 columns]"
      ]
     },
     "execution_count": 42,
     "metadata": {},
     "output_type": "execute_result"
    }
   ],
   "source": [
    "missing"
   ]
  },
  {
   "cell_type": "markdown",
   "id": "4e324d50",
   "metadata": {},
   "source": [
    "### Approach to fill the missing values"
   ]
  },
  {
   "cell_type": "markdown",
   "id": "4c74bb85",
   "metadata": {},
   "source": [
    "Two ways of approach\n",
    "\n",
    "\n",
    "Fill the missing values by mean / median , in case of numerical variable\n",
    "\n",
    "\n",
    "Fill the missing values with the class which has maximum count , in case of categorical variable"
   ]
  },
  {
   "cell_type": "markdown",
   "id": "eab27aeb",
   "metadata": {},
   "source": [
    "Inputing missing values\n",
    "\n",
    "• Look at the description to know whether numerical variables should be imputed with mean or median\n",
    "    \n",
    "    DataFrame.describe()\n",
    "\n",
    "• Generate descriptive statistics that summarize the central tendency, dispersion and shape of a dataset’s distribution, excluding NaN values"
   ]
  },
  {
   "cell_type": "code",
   "execution_count": 43,
   "id": "4bf02967",
   "metadata": {},
   "outputs": [
    {
     "data": {
      "text/html": [
       "<div>\n",
       "<style scoped>\n",
       "    .dataframe tbody tr th:only-of-type {\n",
       "        vertical-align: middle;\n",
       "    }\n",
       "\n",
       "    .dataframe tbody tr th {\n",
       "        vertical-align: top;\n",
       "    }\n",
       "\n",
       "    .dataframe thead th {\n",
       "        text-align: right;\n",
       "    }\n",
       "</style>\n",
       "<table border=\"1\" class=\"dataframe\">\n",
       "  <thead>\n",
       "    <tr style=\"text-align: right;\">\n",
       "      <th></th>\n",
       "      <th>Price</th>\n",
       "      <th>Age</th>\n",
       "      <th>KM</th>\n",
       "      <th>HP</th>\n",
       "      <th>MetColor</th>\n",
       "      <th>Automatic</th>\n",
       "      <th>CC</th>\n",
       "      <th>Weight</th>\n",
       "    </tr>\n",
       "  </thead>\n",
       "  <tbody>\n",
       "    <tr>\n",
       "      <th>count</th>\n",
       "      <td>1436.000000</td>\n",
       "      <td>1336.000000</td>\n",
       "      <td>1421.000000</td>\n",
       "      <td>1430.000000</td>\n",
       "      <td>1286.000000</td>\n",
       "      <td>1436.000000</td>\n",
       "      <td>1436.000000</td>\n",
       "      <td>1436.00000</td>\n",
       "    </tr>\n",
       "    <tr>\n",
       "      <th>mean</th>\n",
       "      <td>10730.824513</td>\n",
       "      <td>55.672156</td>\n",
       "      <td>68647.239972</td>\n",
       "      <td>101.478322</td>\n",
       "      <td>0.674961</td>\n",
       "      <td>0.055710</td>\n",
       "      <td>1566.827994</td>\n",
       "      <td>1072.45961</td>\n",
       "    </tr>\n",
       "    <tr>\n",
       "      <th>std</th>\n",
       "      <td>3626.964585</td>\n",
       "      <td>18.589804</td>\n",
       "      <td>37333.023589</td>\n",
       "      <td>14.768255</td>\n",
       "      <td>0.468572</td>\n",
       "      <td>0.229441</td>\n",
       "      <td>187.182436</td>\n",
       "      <td>52.64112</td>\n",
       "    </tr>\n",
       "    <tr>\n",
       "      <th>min</th>\n",
       "      <td>4350.000000</td>\n",
       "      <td>1.000000</td>\n",
       "      <td>1.000000</td>\n",
       "      <td>69.000000</td>\n",
       "      <td>0.000000</td>\n",
       "      <td>0.000000</td>\n",
       "      <td>1300.000000</td>\n",
       "      <td>1000.00000</td>\n",
       "    </tr>\n",
       "    <tr>\n",
       "      <th>25%</th>\n",
       "      <td>8450.000000</td>\n",
       "      <td>43.000000</td>\n",
       "      <td>43210.000000</td>\n",
       "      <td>90.000000</td>\n",
       "      <td>0.000000</td>\n",
       "      <td>0.000000</td>\n",
       "      <td>1400.000000</td>\n",
       "      <td>1040.00000</td>\n",
       "    </tr>\n",
       "    <tr>\n",
       "      <th>50%</th>\n",
       "      <td>9900.000000</td>\n",
       "      <td>60.000000</td>\n",
       "      <td>63634.000000</td>\n",
       "      <td>110.000000</td>\n",
       "      <td>1.000000</td>\n",
       "      <td>0.000000</td>\n",
       "      <td>1600.000000</td>\n",
       "      <td>1070.00000</td>\n",
       "    </tr>\n",
       "    <tr>\n",
       "      <th>75%</th>\n",
       "      <td>11950.000000</td>\n",
       "      <td>70.000000</td>\n",
       "      <td>87000.000000</td>\n",
       "      <td>110.000000</td>\n",
       "      <td>1.000000</td>\n",
       "      <td>0.000000</td>\n",
       "      <td>1600.000000</td>\n",
       "      <td>1085.00000</td>\n",
       "    </tr>\n",
       "    <tr>\n",
       "      <th>max</th>\n",
       "      <td>32500.000000</td>\n",
       "      <td>80.000000</td>\n",
       "      <td>243000.000000</td>\n",
       "      <td>192.000000</td>\n",
       "      <td>1.000000</td>\n",
       "      <td>1.000000</td>\n",
       "      <td>2000.000000</td>\n",
       "      <td>1615.00000</td>\n",
       "    </tr>\n",
       "  </tbody>\n",
       "</table>\n",
       "</div>"
      ],
      "text/plain": [
       "              Price          Age             KM           HP     MetColor  \\\n",
       "count   1436.000000  1336.000000    1421.000000  1430.000000  1286.000000   \n",
       "mean   10730.824513    55.672156   68647.239972   101.478322     0.674961   \n",
       "std     3626.964585    18.589804   37333.023589    14.768255     0.468572   \n",
       "min     4350.000000     1.000000       1.000000    69.000000     0.000000   \n",
       "25%     8450.000000    43.000000   43210.000000    90.000000     0.000000   \n",
       "50%     9900.000000    60.000000   63634.000000   110.000000     1.000000   \n",
       "75%    11950.000000    70.000000   87000.000000   110.000000     1.000000   \n",
       "max    32500.000000    80.000000  243000.000000   192.000000     1.000000   \n",
       "\n",
       "         Automatic           CC      Weight  \n",
       "count  1436.000000  1436.000000  1436.00000  \n",
       "mean      0.055710  1566.827994  1072.45961  \n",
       "std       0.229441   187.182436    52.64112  \n",
       "min       0.000000  1300.000000  1000.00000  \n",
       "25%       0.000000  1400.000000  1040.00000  \n",
       "50%       0.000000  1600.000000  1070.00000  \n",
       "75%       0.000000  1600.000000  1085.00000  \n",
       "max       1.000000  2000.000000  1615.00000  "
      ]
     },
     "execution_count": 43,
     "metadata": {},
     "output_type": "execute_result"
    }
   ],
   "source": [
    "cars_data2.describe()"
   ]
  },
  {
   "cell_type": "markdown",
   "id": "37543a73",
   "metadata": {},
   "source": [
    "Statistical summary of data"
   ]
  },
  {
   "cell_type": "markdown",
   "id": "c8cc708b",
   "metadata": {},
   "source": [
    "#### Imputing missing values of ‘Age’"
   ]
  },
  {
   "cell_type": "markdown",
   "id": "be01a6ae",
   "metadata": {},
   "source": [
    "Calculating the mean value of the Age variable"
   ]
  },
  {
   "cell_type": "code",
   "execution_count": 44,
   "id": "2c38169a",
   "metadata": {},
   "outputs": [
    {
     "data": {
      "text/plain": [
       "55.67215568862275"
      ]
     },
     "execution_count": 44,
     "metadata": {},
     "output_type": "execute_result"
    }
   ],
   "source": [
    "cars_data2[\"Age\"].mean()"
   ]
  },
  {
   "cell_type": "markdown",
   "id": "6561d8a2",
   "metadata": {},
   "source": [
    "To fill NA/ NaN values using the specified value\n",
    "\n",
    "DataFrame.fillna()"
   ]
  },
  {
   "cell_type": "code",
   "execution_count": 45,
   "id": "ac30071e",
   "metadata": {},
   "outputs": [],
   "source": [
    "cars_data2[\"Age\"].fillna(cars_data2[\"Age\"].mean(),\n",
    "                         inplace = True)"
   ]
  },
  {
   "cell_type": "markdown",
   "id": "caf0e5cd",
   "metadata": {},
   "source": [
    "#### Imputing missing values of ‘KM’"
   ]
  },
  {
   "cell_type": "markdown",
   "id": "512df8f5",
   "metadata": {},
   "source": [
    "Calculating the median value of the KM variable"
   ]
  },
  {
   "cell_type": "code",
   "execution_count": 46,
   "id": "8c1e3fbd",
   "metadata": {},
   "outputs": [
    {
     "data": {
      "text/plain": [
       "63634.0"
      ]
     },
     "execution_count": 46,
     "metadata": {},
     "output_type": "execute_result"
    }
   ],
   "source": [
    "cars_data2[\"KM\"].median()"
   ]
  },
  {
   "cell_type": "markdown",
   "id": "a0b6a29e",
   "metadata": {},
   "source": [
    "To fill NA/ NaN values using the specified value\n",
    "\n",
    "DataFrame.fillna()"
   ]
  },
  {
   "cell_type": "code",
   "execution_count": 47,
   "id": "28be19ac",
   "metadata": {},
   "outputs": [],
   "source": [
    "cars_data2[\"KM\"].fillna(cars_data2[\"KM\"].median(), inplace= True)"
   ]
  },
  {
   "cell_type": "markdown",
   "id": "962ca432",
   "metadata": {},
   "source": [
    "#### Imputing missing values of ‘HP’\n",
    "\n",
    "• Calculating the mean value of the HP variable"
   ]
  },
  {
   "cell_type": "code",
   "execution_count": 48,
   "id": "45a4697d",
   "metadata": {},
   "outputs": [],
   "source": [
    "cars_data2[\"HP\"].fillna(cars_data2[\"HP\"].mean(), inplace = True)"
   ]
  },
  {
   "cell_type": "markdown",
   "id": "bef7c816",
   "metadata": {},
   "source": [
    "#### Check for missing data after filling values"
   ]
  },
  {
   "cell_type": "code",
   "execution_count": 49,
   "id": "efe2e4f5",
   "metadata": {},
   "outputs": [
    {
     "data": {
      "text/plain": [
       "Price          0\n",
       "Age            0\n",
       "KM             0\n",
       "FuelType     100\n",
       "HP             0\n",
       "MetColor     150\n",
       "Automatic      0\n",
       "CC             0\n",
       "Doors          0\n",
       "Weight         0\n",
       "dtype: int64"
      ]
     },
     "execution_count": 49,
     "metadata": {},
     "output_type": "execute_result"
    }
   ],
   "source": [
    "cars_data2.isnull().sum()"
   ]
  },
  {
   "cell_type": "markdown",
   "id": "4816ceef",
   "metadata": {},
   "source": [
    "#### Imputing missing values of ‘FuelType"
   ]
  },
  {
   "cell_type": "markdown",
   "id": "ddc987a5",
   "metadata": {},
   "source": [
    "Series.value_counts()\n",
    "\n",
    "• Returns a Series containing counts of unique values\n",
    "\n",
    "• The values will be in descending order so that the first element is the most frequently occurring element\n",
    "\n",
    "• Excludes NA values by default"
   ]
  },
  {
   "cell_type": "code",
   "execution_count": 50,
   "id": "cfe9fe05",
   "metadata": {},
   "outputs": [
    {
     "data": {
      "text/plain": [
       "Petrol    1177\n",
       "Diesel     144\n",
       "CNG         15\n",
       "Name: FuelType, dtype: int64"
      ]
     },
     "execution_count": 50,
     "metadata": {},
     "output_type": "execute_result"
    }
   ],
   "source": [
    "cars_data2[\"FuelType\"].value_counts()"
   ]
  },
  {
   "cell_type": "markdown",
   "id": "e8627b2c",
   "metadata": {},
   "source": [
    "#### To get the mode value of FuelType"
   ]
  },
  {
   "cell_type": "code",
   "execution_count": 51,
   "id": "878a7d24",
   "metadata": {},
   "outputs": [
    {
     "data": {
      "text/plain": [
       "'Petrol'"
      ]
     },
     "execution_count": 51,
     "metadata": {},
     "output_type": "execute_result"
    }
   ],
   "source": [
    "cars_data2[\"FuelType\"].value_counts().index[0]"
   ]
  },
  {
   "cell_type": "markdown",
   "id": "4b63f811",
   "metadata": {},
   "source": [
    "#### To fill NA/ NaN values using the specified value\n",
    "\n",
    "DataFrame.fillna()"
   ]
  },
  {
   "cell_type": "code",
   "execution_count": 52,
   "id": "c2fe45e6",
   "metadata": {},
   "outputs": [],
   "source": [
    "cars_data2[\"FuelType\"].fillna(cars_data2[\"FuelType\"]\\\n",
    "                              .value_counts().index[0],\\\n",
    "                             inplace = True)"
   ]
  },
  {
   "cell_type": "markdown",
   "id": "76aef7ea",
   "metadata": {},
   "source": [
    "#### Imputing missing values of ‘MetColor"
   ]
  },
  {
   "cell_type": "markdown",
   "id": "364f76d2",
   "metadata": {},
   "source": [
    "To get the mode value of MetColor"
   ]
  },
  {
   "cell_type": "code",
   "execution_count": 53,
   "id": "6f4beb8f",
   "metadata": {},
   "outputs": [
    {
     "data": {
      "text/plain": [
       "0    1.0\n",
       "dtype: float64"
      ]
     },
     "execution_count": 53,
     "metadata": {},
     "output_type": "execute_result"
    }
   ],
   "source": [
    "cars_data2[\"MetColor\"].mode()"
   ]
  },
  {
   "cell_type": "markdown",
   "id": "7c2d2bf5",
   "metadata": {},
   "source": [
    "To fill NA/ NaN values using the specified value"
   ]
  },
  {
   "cell_type": "code",
   "execution_count": 54,
   "id": "9155b317",
   "metadata": {},
   "outputs": [],
   "source": [
    "cars_data2[\"MetColor\"].fillna(cars_data2[\"MetColor\"]\\\n",
    "                             .mode()[0], inplace = True)"
   ]
  },
  {
   "cell_type": "markdown",
   "id": "5590fe8e",
   "metadata": {},
   "source": [
    "#### Check for missing data after filling values"
   ]
  },
  {
   "cell_type": "code",
   "execution_count": 55,
   "id": "423ae4e1",
   "metadata": {},
   "outputs": [
    {
     "data": {
      "text/plain": [
       "Price        0\n",
       "Age          0\n",
       "KM           0\n",
       "FuelType     0\n",
       "HP           0\n",
       "MetColor     0\n",
       "Automatic    0\n",
       "CC           0\n",
       "Doors        0\n",
       "Weight       0\n",
       "dtype: int64"
      ]
     },
     "execution_count": 55,
     "metadata": {},
     "output_type": "execute_result"
    }
   ],
   "source": [
    "cars_data2.isnull().sum()"
   ]
  },
  {
   "cell_type": "markdown",
   "id": "7a9b13a7",
   "metadata": {},
   "source": [
    "#### Imputing missing values using lambda functions\n",
    "\n",
    "To fill the NA/ NaN values in both numerical and categorial variables at one stretch"
   ]
  },
  {
   "cell_type": "code",
   "execution_count": 56,
   "id": "fad0decf",
   "metadata": {},
   "outputs": [],
   "source": [
    "cars_data3 = cars_data.copy()"
   ]
  },
  {
   "cell_type": "code",
   "execution_count": 57,
   "id": "dcadde5c",
   "metadata": {},
   "outputs": [],
   "source": [
    "cars_data3 = cars_data3.apply(lambda x:x.fillna(x.mean())\\\n",
    "                             if x.dtype== \"float\" else\\\n",
    "                             x.fillna(x.value_counts().index[0]))"
   ]
  },
  {
   "cell_type": "code",
   "execution_count": 58,
   "id": "d0668b90",
   "metadata": {},
   "outputs": [
    {
     "data": {
      "text/plain": [
       "Price        0\n",
       "Age          0\n",
       "KM           0\n",
       "FuelType     0\n",
       "HP           0\n",
       "MetColor     0\n",
       "Automatic    0\n",
       "CC           0\n",
       "Doors        0\n",
       "Weight       0\n",
       "dtype: int64"
      ]
     },
     "execution_count": 58,
     "metadata": {},
     "output_type": "execute_result"
    }
   ],
   "source": [
    "cars_data3.isnull().sum()"
   ]
  },
  {
   "cell_type": "code",
   "execution_count": null,
   "id": "dc45bac8",
   "metadata": {},
   "outputs": [],
   "source": []
  },
  {
   "cell_type": "code",
   "execution_count": null,
   "id": "edc9d428",
   "metadata": {},
   "outputs": [],
   "source": []
  },
  {
   "cell_type": "code",
   "execution_count": null,
   "id": "cf71c0e8",
   "metadata": {},
   "outputs": [],
   "source": []
  },
  {
   "cell_type": "code",
   "execution_count": null,
   "id": "3aee6f25",
   "metadata": {},
   "outputs": [],
   "source": []
  }
 ],
 "metadata": {
  "kernelspec": {
   "display_name": "Python 3 (ipykernel)",
   "language": "python",
   "name": "python3"
  },
  "language_info": {
   "codemirror_mode": {
    "name": "ipython",
    "version": 3
   },
   "file_extension": ".py",
   "mimetype": "text/x-python",
   "name": "python",
   "nbconvert_exporter": "python",
   "pygments_lexer": "ipython3",
   "version": "3.9.7"
  }
 },
 "nbformat": 4,
 "nbformat_minor": 5
}
